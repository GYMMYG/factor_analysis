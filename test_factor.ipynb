{
 "cells": [
  {
   "cell_type": "code",
   "execution_count": 1,
   "metadata": {},
   "outputs": [],
   "source": [
    "import numpy as np\n",
    "import pandas as pd\n",
    "from tools.get_data.get_data_h5 import *\n",
    "from pandasgui import show\n",
    "import talib as ta\n",
    "import datetime\n",
    "from tsfresh import extract_features\n",
    "from tsfresh.utilities.dataframe_functions import roll_time_series\n",
    "import numpy as np\n",
    "import pandas as pd\n",
    "import os\n",
    "import plotly.express as px\n",
    "from IPython.display import display\n",
    "\n"
   ]
  },
  {
   "attachments": {},
   "cell_type": "markdown",
   "metadata": {},
   "source": [
    "### 1. 获取factor数据"
   ]
  },
  {
   "cell_type": "code",
   "execution_count": 2,
   "metadata": {},
   "outputs": [],
   "source": [
    "from importlib import reload\n",
    "import factors as dl\n",
    "reload(dl)\n",
    "run = 0\n",
    "if run == 1:\n",
    "    data = get_data(symbol=\"rb99\", freq=\"minbar\", type=\"future\",\n",
    "                    source_dir=\"Y:/DataBase_RQ_files/\")\n",
    "    data[\"sma_diff_5\"] = dl.sma_diff(data, 5)\n",
    "    data[\"sma_diff_20000\"] = dl.sma_diff(data, 20000)\n",
    "    data[\"ema_diff_300\"] = dl.ema_diff(data, 300)\n",
    "    data[\"ema_diff_1000\"] = dl.ema_diff(data, 1000)\n",
    "    data[\"sma_of_sma_5_10\"] = dl.sma_of_sma(data, 5, 10)\n",
    "    data[\"ema_of_ema_10_30\"] = dl.ema_of_ema(data, 10, 30)\n",
    "    data[\"sma_diff_sma_5_100\"] = dl.sma_diff_sma(data, 5, 100)\n",
    "    data[\"high_60\"] = dl.high(data, 60)\n",
    "    data[\"low_60\"] = dl.low(data, 60)\n",
    "    data[\"high_60\"] = dl.high(data, 60)\n",
    "    data[\"low_60\"] = dl.low(data, 60)\n",
    "    data[\"wl_60\"] = dl.wl(data, 60)\n",
    "    data[\"wl_60\"] = dl.wl(data, 60)\n",
    "    data[\"macd_dif\"], data[\"macd_dea\"], data[\"macd_hist\"], data[\"macd_signal\"] = dl.MACD(\n",
    "        data, fast=10, slow=60, mid=15)\n",
    "    data[\"slope\"] = dl.slope(data, 60)\n",
    "    data[\"rsi_60\"] = dl.rsi(data, 60)\n",
    "    data[\"sar\"] = dl.sar(data)\n",
    "    data[\"rwr_60\"] = dl.rwr(data, 60)\n",
    "    data[\"rsi_100\"] = dl.rsi(data, 100)\n",
    "    data[\"rwr_100\"] = dl.rwr(data, 100)\n",
    "    data[\"aroon_up\"], data[\"aroon_down\"], data[\"aroon\"] = dl.aroon(data, 60)\n",
    "    data[\"tendstrength\"] = dl.tendstrength(data, 120)\n",
    "    data[\"boll\"] = dl.boll(data, 200)\n",
    "    data[\"don\"] = dl.don(data, 100)\n",
    "    data[\"sf01\"] = dl.sf01(data, 60)\n",
    "    data[\"cor_vol\"] = dl.cor_vol(data, 200)\n",
    "    data[\"cor_oi\"] = dl.cor_oi(data, 1000)\n",
    "\n",
    "    l = [1, 3, 5] + (list(range(10, 201, 5)))\n",
    "    for i in l:\n",
    "        data[\"shift_{}_rtn\".format(i)] = dl.rtn_shift(data.close, -i)\n",
    "    print(\"liqka前工作完成\", len(data))\n",
    "\n",
    "    data[\"long_liqka\"] = dl.long_liqka(data)\n",
    "    data[\"short_liqka\"] = dl.short_liqka(data)\n",
    "    data.dropna(inplace=True)\n",
    "    data.to_parquet(\".//data//factors.parquet\")\n",
    "    \n",
    "\n",
    "# data = pd.read_parquet(\".//data//factors.parquet\")\n"
   ]
  },
  {
   "cell_type": "code",
   "execution_count": 3,
   "metadata": {},
   "outputs": [
    {
     "data": {
      "text/plain": [
       "<module 'FactorAnalyzer' from 'e:\\\\Work\\\\5 Research\\\\factor_analysis\\\\FactorAnalyzer.py'>"
      ]
     },
     "execution_count": 3,
     "metadata": {},
     "output_type": "execute_result"
    }
   ],
   "source": [
    "from importlib import reload\n",
    "import FactorAnalyzer as fa\n",
    "reload(fa)"
   ]
  },
  {
   "cell_type": "code",
   "execution_count": 4,
   "metadata": {},
   "outputs": [
    {
     "name": "stdout",
     "output_type": "stream",
     "text": [
      "Progress: 100.00%\r"
     ]
    }
   ],
   "source": [
    "factors =pd.read_parquet(\".//data//factors.parquet\")\n",
    "fac = factors[[\"datetime\",\"open\",\"high\",\"close\"]][:10000]\n",
    "\n",
    "fa_test = fa.FactorRanker(fac, 10, 2000)\n",
    "rank_factors = fa_test.rank_factors(\"rb99\")\n",
    "rtn_df = fa_test.cal_returns(rank_factors.close)\n",
    "rank_fa =fa.RankFactorAnalyzer(rank_factors, rtn_df)\n",
    "results_df = rank_fa.cal_rank_results()\n",
    "factors_select = rank_fa.factors_select(results_df)\n"
   ]
  },
  {
   "cell_type": "code",
   "execution_count": 5,
   "metadata": {},
   "outputs": [
    {
     "data": {
      "text/html": [
       "<div>\n",
       "<style scoped>\n",
       "    .dataframe tbody tr th:only-of-type {\n",
       "        vertical-align: middle;\n",
       "    }\n",
       "\n",
       "    .dataframe tbody tr th {\n",
       "        vertical-align: top;\n",
       "    }\n",
       "\n",
       "    .dataframe thead th {\n",
       "        text-align: right;\n",
       "    }\n",
       "</style>\n",
       "<table border=\"1\" class=\"dataframe\">\n",
       "  <thead>\n",
       "    <tr style=\"text-align: right;\">\n",
       "      <th></th>\n",
       "      <th></th>\n",
       "      <th></th>\n",
       "      <th>mean_rtn</th>\n",
       "      <th>win_rate</th>\n",
       "      <th>count</th>\n",
       "      <th>effective_period</th>\n",
       "    </tr>\n",
       "    <tr>\n",
       "      <th>factor</th>\n",
       "      <th>rank</th>\n",
       "      <th>return</th>\n",
       "      <th></th>\n",
       "      <th></th>\n",
       "      <th></th>\n",
       "      <th></th>\n",
       "    </tr>\n",
       "  </thead>\n",
       "  <tbody>\n",
       "    <tr>\n",
       "      <th rowspan=\"2\" valign=\"top\">close_rank</th>\n",
       "      <th rowspan=\"2\" valign=\"top\">9.0</th>\n",
       "      <th>shift_200_rtn</th>\n",
       "      <td>0.420457</td>\n",
       "      <td>67.313019</td>\n",
       "      <td>722</td>\n",
       "      <td>48.0</td>\n",
       "    </tr>\n",
       "    <tr>\n",
       "      <th>shift_195_rtn</th>\n",
       "      <td>0.412907</td>\n",
       "      <td>67.451524</td>\n",
       "      <td>722</td>\n",
       "      <td>48.0</td>\n",
       "    </tr>\n",
       "    <tr>\n",
       "      <th rowspan=\"2\" valign=\"top\">open_rank</th>\n",
       "      <th rowspan=\"2\" valign=\"top\">9.0</th>\n",
       "      <th>shift_200_rtn</th>\n",
       "      <td>0.412516</td>\n",
       "      <td>67.128988</td>\n",
       "      <td>721</td>\n",
       "      <td>48.0</td>\n",
       "    </tr>\n",
       "    <tr>\n",
       "      <th>shift_195_rtn</th>\n",
       "      <td>0.405547</td>\n",
       "      <td>67.267684</td>\n",
       "      <td>721</td>\n",
       "      <td>48.0</td>\n",
       "    </tr>\n",
       "    <tr>\n",
       "      <th>high_rank</th>\n",
       "      <th>9.0</th>\n",
       "      <th>shift_200_rtn</th>\n",
       "      <td>0.405539</td>\n",
       "      <td>66.758621</td>\n",
       "      <td>725</td>\n",
       "      <td>49.0</td>\n",
       "    </tr>\n",
       "    <tr>\n",
       "      <th>...</th>\n",
       "      <th>...</th>\n",
       "      <th>...</th>\n",
       "      <td>...</td>\n",
       "      <td>...</td>\n",
       "      <td>...</td>\n",
       "      <td>...</td>\n",
       "    </tr>\n",
       "    <tr>\n",
       "      <th>close_rank</th>\n",
       "      <th>1.0</th>\n",
       "      <th>shift_195_rtn</th>\n",
       "      <td>-0.353898</td>\n",
       "      <td>62.688822</td>\n",
       "      <td>662</td>\n",
       "      <td>NaN</td>\n",
       "    </tr>\n",
       "    <tr>\n",
       "      <th rowspan=\"4\" valign=\"top\">open_rank</th>\n",
       "      <th rowspan=\"4\" valign=\"top\">1.0</th>\n",
       "      <th>shift_185_rtn</th>\n",
       "      <td>-0.364550</td>\n",
       "      <td>60.708783</td>\n",
       "      <td>649</td>\n",
       "      <td>NaN</td>\n",
       "    </tr>\n",
       "    <tr>\n",
       "      <th>shift_190_rtn</th>\n",
       "      <td>-0.373482</td>\n",
       "      <td>61.479199</td>\n",
       "      <td>649</td>\n",
       "      <td>NaN</td>\n",
       "    </tr>\n",
       "    <tr>\n",
       "      <th>shift_200_rtn</th>\n",
       "      <td>-0.377126</td>\n",
       "      <td>61.016949</td>\n",
       "      <td>649</td>\n",
       "      <td>NaN</td>\n",
       "    </tr>\n",
       "    <tr>\n",
       "      <th>shift_195_rtn</th>\n",
       "      <td>-0.379053</td>\n",
       "      <td>61.325116</td>\n",
       "      <td>649</td>\n",
       "      <td>NaN</td>\n",
       "    </tr>\n",
       "  </tbody>\n",
       "</table>\n",
       "<p>1344 rows × 4 columns</p>\n",
       "</div>"
      ],
      "text/plain": [
       "                               mean_rtn   win_rate  count  effective_period\n",
       "factor     rank return                                                     \n",
       "close_rank 9.0  shift_200_rtn  0.420457  67.313019    722              48.0\n",
       "                shift_195_rtn  0.412907  67.451524    722              48.0\n",
       "open_rank  9.0  shift_200_rtn  0.412516  67.128988    721              48.0\n",
       "                shift_195_rtn  0.405547  67.267684    721              48.0\n",
       "high_rank  9.0  shift_200_rtn  0.405539  66.758621    725              49.0\n",
       "...                                 ...        ...    ...               ...\n",
       "close_rank 1.0  shift_195_rtn -0.353898  62.688822    662               NaN\n",
       "open_rank  1.0  shift_185_rtn -0.364550  60.708783    649               NaN\n",
       "                shift_190_rtn -0.373482  61.479199    649               NaN\n",
       "                shift_200_rtn -0.377126  61.016949    649               NaN\n",
       "                shift_195_rtn -0.379053  61.325116    649               NaN\n",
       "\n",
       "[1344 rows x 4 columns]"
      ]
     },
     "execution_count": 5,
     "metadata": {},
     "output_type": "execute_result"
    }
   ],
   "source": [
    "factors_select"
   ]
  },
  {
   "cell_type": "code",
   "execution_count": 6,
   "metadata": {},
   "outputs": [
    {
     "name": "stdout",
     "output_type": "stream",
     "text": [
      "画出前3个因子的图\n",
      "datetime\n",
      "2010-06-21 14:49:00   -0.434646\n",
      "2010-06-21 14:50:00   -0.483539\n",
      "2010-06-21 14:51:00   -0.529794\n",
      "2010-06-21 14:52:00   -0.522682\n",
      "2010-06-21 14:53:00   -0.507599\n",
      "                         ...   \n",
      "2010-07-21 14:56:00   -0.108510\n",
      "2010-07-21 14:57:00   -0.070268\n",
      "2010-07-21 14:58:00   -0.051529\n",
      "2010-07-21 14:59:00   -0.032545\n",
      "2010-07-21 15:00:00    0.015696\n",
      "Name: shift_200_rtn, Length: 722, dtype: float64\n"
     ]
    },
    {
     "data": {
      "image/png": "[encoded data removed]",
      "text/plain": [
       "<Figure size 1000x400 with 1 Axes>"
      ]
     },
     "metadata": {},
     "output_type": "display_data"
    },
    {
     "name": "stdout",
     "output_type": "stream",
     "text": [
      "datetime\n",
      "2010-06-21 14:49:00   -0.436771\n",
      "2010-06-21 14:50:00   -0.459662\n",
      "2010-06-21 14:51:00   -0.506273\n",
      "2010-06-21 14:52:00   -0.473930\n",
      "2010-06-21 14:53:00   -0.525981\n",
      "                         ...   \n",
      "2010-07-21 14:56:00    0.012425\n",
      "2010-07-21 14:57:00   -0.031412\n",
      "2010-07-21 14:58:00   -0.022301\n",
      "2010-07-21 14:59:00   -0.058750\n",
      "2010-07-21 15:00:00   -0.019583\n",
      "Name: shift_195_rtn, Length: 722, dtype: float64\n"
     ]
    },
    {
     "data": {
      "image/png": "[encoded data removed]",
      "text/plain": [
       "<Figure size 1000x400 with 1 Axes>"
      ]
     },
     "metadata": {},
     "output_type": "display_data"
    },
    {
     "name": "stdout",
     "output_type": "stream",
     "text": [
      "datetime\n",
      "2010-06-21 14:45:00   -0.404521\n",
      "2010-06-21 14:50:00   -0.483539\n",
      "2010-06-21 14:51:00   -0.529794\n",
      "2010-06-21 14:52:00   -0.522682\n",
      "2010-06-21 14:53:00   -0.507599\n",
      "                         ...   \n",
      "2010-07-21 14:57:00   -0.070268\n",
      "2010-07-21 14:58:00   -0.051529\n",
      "2010-07-21 14:59:00   -0.032545\n",
      "2010-07-21 15:00:00    0.015696\n",
      "2010-07-22 09:01:00    0.101568\n",
      "Name: shift_200_rtn, Length: 721, dtype: float64\n"
     ]
    },
    {
     "data": {
      "image/png": "[encoded data removed]",
      "text/plain": [
       "<Figure size 1000x400 with 1 Axes>"
      ]
     },
     "metadata": {},
     "output_type": "display_data"
    }
   ],
   "source": [
    "rank_fa.plots(results_df)"
   ]
  },
  {
   "cell_type": "code",
   "execution_count": 7,
   "metadata": {},
   "outputs": [
    {
     "ename": "NameError",
     "evalue": "name 'r' is not defined",
     "output_type": "error",
     "traceback": [
      "\u001b[1;31m---------------------------------------------------------------------------\u001b[0m",
      "\u001b[1;31mNameError\u001b[0m                                 Traceback (most recent call last)",
      "Cell \u001b[1;32mIn[7], line 47\u001b[0m\n\u001b[0;32m     45\u001b[0m         \u001b[39mreturn\u001b[39;00m \u001b[39mself\u001b[39m\u001b[39m.\u001b[39mresults,ic_bigger\n\u001b[0;32m     46\u001b[0m fa_results \u001b[39m=\u001b[39m FactorAnalyzer(rank_factors, rtn_df)\n\u001b[1;32m---> 47\u001b[0m result,ic_bigger \u001b[39m=\u001b[39m fa_results\u001b[39m.\u001b[39;49manalyze_factor_effectiveness()\n",
      "Cell \u001b[1;32mIn[7], line 42\u001b[0m, in \u001b[0;36mFactorAnalyzer.analyze_factor_effectiveness\u001b[1;34m(self, ic_value)\u001b[0m\n\u001b[0;32m     39\u001b[0m \u001b[39mself\u001b[39m\u001b[39m.\u001b[39mresults \u001b[39m=\u001b[39m pd\u001b[39m.\u001b[39mDataFrame(factor_effectiveness)\u001b[39m.\u001b[39mT\n\u001b[0;32m     41\u001b[0m cond \u001b[39m=\u001b[39m (\u001b[39mself\u001b[39m\u001b[39m.\u001b[39mresults \u001b[39m>\u001b[39mic_value) \u001b[39m+\u001b[39m (\u001b[39mself\u001b[39m\u001b[39m.\u001b[39mresults \u001b[39m<\u001b[39m \u001b[39m-\u001b[39mic_value)\n\u001b[1;32m---> 42\u001b[0m ic_bigger \u001b[39m=\u001b[39m [(index, column, r\u001b[39m.\u001b[39mloc[index, column]) \n\u001b[0;32m     43\u001b[0m             \u001b[39mfor\u001b[39;00m column \u001b[39min\u001b[39;00m cond\u001b[39m.\u001b[39mcolumns\n\u001b[0;32m     44\u001b[0m             \u001b[39mfor\u001b[39;00m index \u001b[39min\u001b[39;00m cond\u001b[39m.\u001b[39mindex \u001b[39mif\u001b[39;00m cond\u001b[39m.\u001b[39mloc[index, column]]\n\u001b[0;32m     45\u001b[0m \u001b[39mreturn\u001b[39;00m \u001b[39mself\u001b[39m\u001b[39m.\u001b[39mresults,ic_bigger\n",
      "Cell \u001b[1;32mIn[7], line 42\u001b[0m, in \u001b[0;36m<listcomp>\u001b[1;34m(.0)\u001b[0m\n\u001b[0;32m     39\u001b[0m \u001b[39mself\u001b[39m\u001b[39m.\u001b[39mresults \u001b[39m=\u001b[39m pd\u001b[39m.\u001b[39mDataFrame(factor_effectiveness)\u001b[39m.\u001b[39mT\n\u001b[0;32m     41\u001b[0m cond \u001b[39m=\u001b[39m (\u001b[39mself\u001b[39m\u001b[39m.\u001b[39mresults \u001b[39m>\u001b[39mic_value) \u001b[39m+\u001b[39m (\u001b[39mself\u001b[39m\u001b[39m.\u001b[39mresults \u001b[39m<\u001b[39m \u001b[39m-\u001b[39mic_value)\n\u001b[1;32m---> 42\u001b[0m ic_bigger \u001b[39m=\u001b[39m [(index, column, r\u001b[39m.\u001b[39mloc[index, column]) \n\u001b[0;32m     43\u001b[0m             \u001b[39mfor\u001b[39;00m column \u001b[39min\u001b[39;00m cond\u001b[39m.\u001b[39mcolumns\n\u001b[0;32m     44\u001b[0m             \u001b[39mfor\u001b[39;00m index \u001b[39min\u001b[39;00m cond\u001b[39m.\u001b[39mindex \u001b[39mif\u001b[39;00m cond\u001b[39m.\u001b[39mloc[index, column]]\n\u001b[0;32m     45\u001b[0m \u001b[39mreturn\u001b[39;00m \u001b[39mself\u001b[39m\u001b[39m.\u001b[39mresults,ic_bigger\n",
      "\u001b[1;31mNameError\u001b[0m: name 'r' is not defined"
     ]
    }
   ],
   "source": [
    "import pandas as pd\n",
    "import numpy as np\n",
    "import statsmodels.api as sm\n",
    "\n",
    "\n",
    "class FactorAnalyzer:\n",
    "    # ... 其他代码与之前相同\n",
    "    def __init__(self, rank_factors, returns):\n",
    "        self.rank_factors = rank_factors\n",
    "        self.returns = returns\n",
    "        self.data = pd.concat([rank_factors, returns], axis=1)\n",
    "\n",
    "\n",
    "    def analyze_factor_effectiveness(self,ic_value:int = 0.1):\n",
    "        factor_effectiveness = {}\n",
    "\n",
    "        factor_cols=[col for col in self.data.columns if 'rtn' not in col]\n",
    "        rtn_cols = [col for col in self.data.columns if 'rtn' in col]\n",
    "        for factor in factor_cols:\n",
    "            for rtn in rtn_cols:\n",
    "                X = self.data[factor]\n",
    "                X = sm.add_constant(X)\n",
    "                y = self.data[rtn]\n",
    "                model = sm.OLS(y, X).fit()\n",
    "                factor_effectiveness[factor] = {\n",
    "                    'regression_coeff': model.params[factor],\n",
    "                    't_stat': model.tvalues[factor],\n",
    "                    'p_value': model.pvalues[factor]\n",
    "                }\n",
    "\n",
    "        # 计算信息系数（IC）\n",
    "        for factor in factor_cols:\n",
    "            for rtn in rtn_cols:\n",
    "                factor_values = self.data[factor]\n",
    "                future_returns = self.data[rtn]\n",
    "                ic = factor_values.corr(future_returns)\n",
    "                factor_effectiveness[factor]['ic_{}'.format(rtn)] = ic\n",
    "\n",
    "        self.results = pd.DataFrame(factor_effectiveness).T\n",
    "\n",
    "        cond = (self.results >ic_value) + (self.results < -ic_value)\n",
    "        ic_bigger = [(index, column, r.loc[index, column]) \n",
    "                    for column in cond.columns\n",
    "                    for index in cond.index if cond.loc[index, column]]\n",
    "        return self.results,ic_bigger\n",
    "fa_results = FactorAnalyzer(rank_factors, rtn_df)\n",
    "result,ic_bigger = fa_results.analyze_factor_effectiveness()\n"
   ]
  },
  {
   "cell_type": "code",
   "execution_count": null,
   "metadata": {},
   "outputs": [],
   "source": [
    "result"
   ]
  },
  {
   "cell_type": "code",
   "execution_count": null,
   "metadata": {},
   "outputs": [],
   "source": [
    "ic_bigger"
   ]
  },
  {
   "cell_type": "code",
   "execution_count": null,
   "metadata": {},
   "outputs": [],
   "source": [
    "cond = (r>0.07) + (r<-0.1)\n",
    "result = [(index, column, r.loc[index, column]) for column in cond.columns\n",
    "          for index in cond.index if cond.loc[index, column]]\n",
    "\n",
    "print(result)\n"
   ]
  },
  {
   "cell_type": "code",
   "execution_count": null,
   "metadata": {},
   "outputs": [],
   "source": [
    "import pandas as pd\n",
    "\n",
    "# 假设这是你的DataFrame\n",
    "data = {'A': [1, 4, 2, 8], 'B': [5, 2, 3, 6], 'C': [3, 1, 7, 4]}\n",
    "\n",
    "df = pd.DataFrame(data)\n",
    "\n",
    "# 使用布尔索引找到所有大于3的数据的位置\n",
    "greater_than_3 = df > 3\n",
    "\n",
    "# 获取大于3的数据的列名、索引和值\n",
    "result = [(index, column, df.loc[index, column])\n",
    "          for column in greater_than_3.columns\n",
    "          for index in greater_than_3.index\n",
    "          if greater_than_3.loc[index, column]]\n",
    "\n",
    "print(result)\n"
   ]
  },
  {
   "cell_type": "code",
   "execution_count": null,
   "metadata": {},
   "outputs": [],
   "source": [
    "df =pd.DataFrame()\n",
    "df[\"a\"] ={\"model\":1,\"t\":3123}\n",
    "df"
   ]
  },
  {
   "cell_type": "code",
   "execution_count": null,
   "metadata": {},
   "outputs": [],
   "source": [
    "factors_select"
   ]
  },
  {
   "cell_type": "code",
   "execution_count": null,
   "metadata": {},
   "outputs": [],
   "source": [
    "rank_fa.cumsum_plot(results_df)"
   ]
  },
  {
   "cell_type": "code",
   "execution_count": null,
   "metadata": {},
   "outputs": [],
   "source": []
  },
  {
   "cell_type": "code",
   "execution_count": null,
   "metadata": {},
   "outputs": [],
   "source": [
    "rank_df2 = pd.concat([rank_df, rtn_df], axis=1).dropna()\n",
    "rank_df2.close_rank.max()+1"
   ]
  },
  {
   "cell_type": "code",
   "execution_count": null,
   "metadata": {},
   "outputs": [],
   "source": [
    "rtn_df"
   ]
  },
  {
   "cell_type": "code",
   "execution_count": null,
   "metadata": {},
   "outputs": [],
   "source": [
    "rtn_df = fa_test.cal_returns(rank_df.close)\n",
    "(rtn_df[[\"price\", \"shift_1_rtn\"]]-2/10000 )*100\n"
   ]
  },
  {
   "cell_type": "code",
   "execution_count": null,
   "metadata": {},
   "outputs": [],
   "source": [
    "factors_1[[\"close\",\"shift_1_rtn\"]][2000:10000]"
   ]
  },
  {
   "cell_type": "code",
   "execution_count": null,
   "metadata": {},
   "outputs": [],
   "source": [
    "rank_df\n",
    "rank_df2 = pd.read_parquet(\".//data//symbol_2000_10_rank_df.parquet\")\n",
    "show(rank_df2[[\"open\", \"high\", \"high_rank\", \"open_rank\"]][:8000], rank_df)\n"
   ]
  },
  {
   "attachments": {},
   "cell_type": "markdown",
   "metadata": {},
   "source": [
    "### 2. 因子分析"
   ]
  },
  {
   "attachments": {},
   "cell_type": "markdown",
   "metadata": {},
   "source": [
    "#### 2.1 创建因子rank_df/results_df(耗时长)"
   ]
  },
  {
   "cell_type": "code",
   "execution_count": null,
   "metadata": {},
   "outputs": [],
   "source": [
    "rank_df.equals(rank_df2[[\"open\", \"high\", \"high_rank\", \"open_rank\"]][:8000])\n"
   ]
  },
  {
   "cell_type": "code",
   "execution_count": null,
   "metadata": {},
   "outputs": [],
   "source": [
    "# 创建series\n",
    "factors_1 = factors.set_index(\"datetime\",  drop=True)\n",
    "s = factors_1[\"open\"]\n",
    "type(s.index)"
   ]
  },
  {
   "cell_type": "code",
   "execution_count": null,
   "metadata": {},
   "outputs": [],
   "source": [
    "if pd.core.indexes.datetimes.DatetimeIndex is pd.core.indexes.datetimes.DatetimeIndex:\n",
    "    print(2)"
   ]
  },
  {
   "cell_type": "code",
   "execution_count": null,
   "metadata": {},
   "outputs": [],
   "source": [
    "my_list = list(range(1, 31)) + list(range(30, 201, 5))\n",
    "print(my_list)\n",
    "list(range(31)) + list(range(30, 201, 5))\n"
   ]
  },
  {
   "cell_type": "code",
   "execution_count": null,
   "metadata": {},
   "outputs": [],
   "source": [
    "rank_df2[[\"open\", \"high\", \"high_rank\", \"open_rank\"]][:8000]"
   ]
  },
  {
   "cell_type": "code",
   "execution_count": null,
   "metadata": {},
   "outputs": [],
   "source": [
    "from importlib import reload    \n",
    "import factor_analysis as fa\n",
    "reload(fa)\n",
    "data = pd.read_parquet(\".//data//factors.parquet\")\n",
    "data.set_index(\"datetime\", inplace=True, drop=True)\n",
    "factors_cols = []\n",
    "rtn_cols = []\n",
    "for col in data.columns:\n",
    "    if col not in ['datetime', 'trading_date', \"symbol\"]:\n",
    "        if \"rtn\" not in col and \"liqka\" not in col:\n",
    "            factors_cols.append(col)\n",
    "        else:\n",
    "            rtn_cols.append(col)\n",
    "factors = data[factors_cols]\n",
    "rtn = data[rtn_cols]\n",
    "run = 0\n",
    "if run == 1:\n",
    "    fal = fa.FactorAnalysis_ori()\n",
    "    rank_df, results_df = fal.cal_rank_results(\n",
    "    factors, rtn, save=True, sample_size=60000, bins=20)\n",
    "\n",
    "    rank_df, results_df = fal.cal_rank_results(\n",
    "        factors, rtn, save=True, sample_size=30000, bins=20)\n",
    "    rank_df, results_df = fal.cal_rank_results(\n",
    "        factors, rtn, save=True, sample_size=20000, bins=15)\n",
    "    rank_df, results_df = fal.cal_rank_results(\n",
    "        factors, rtn, save=True, sample_size=10000, bins=15)\n",
    "    rank_df, results_df = fal.cal_rank_results(\n",
    "        factors, rtn, save=True, sample_size=5000, bins=10)\n",
    "    rank_df, results_df = fal.cal_rank_results(\n",
    "        factors, rtn, save=True, sample_size=2000, bins=10)\n",
    "    rank_df, results_df = fal.cal_rank_results(\n",
    "        factors, rtn, save=True, sample_size=1000, bins=10)\n",
    "    rank_df, results_df = fal.cal_rank_results(factors, rtn,save=True,sample_size=500,bins=10)"
   ]
  },
  {
   "cell_type": "code",
   "execution_count": null,
   "metadata": {},
   "outputs": [],
   "source": [
    "type(factors.index) == pd.core.indexes.datetimes.DatetimeIndex"
   ]
  },
  {
   "cell_type": "code",
   "execution_count": null,
   "metadata": {},
   "outputs": [],
   "source": [
    "# 直接读取rank_df/results_df\n",
    "# print(os.listdir(\".//data//\"))\n",
    "rank_df = pd.read_parquet(\".//data//symbol_2000_10_rank_df.parquet\")\n",
    "results_df = pd.read_parquet(   \".//data//symbol_2000_10_results_df.parquet\")\n",
    "# rank_df = pd.read_parquet(\".//data//symbol_30000_20_rank_df.parquet\")\n",
    "# results_df = pd.read_parquet(\".//data//symbol_30000_20_results_df.parquet\")\n"
   ]
  },
  {
   "cell_type": "code",
   "execution_count": null,
   "metadata": {},
   "outputs": [],
   "source": [
    "show(rank_df.head(500),results_df.head(500))"
   ]
  },
  {
   "attachments": {},
   "cell_type": "markdown",
   "metadata": {},
   "source": [
    "#### 2.2 因子分析"
   ]
  },
  {
   "cell_type": "code",
   "execution_count": null,
   "metadata": {},
   "outputs": [],
   "source": [
    "import factor_analysis as fa\n",
    "from importlib import reload\n",
    "reload(fa)\n",
    "fal = fa.FactorAnalysis_ori()\n"
   ]
  },
  {
   "cell_type": "code",
   "execution_count": null,
   "metadata": {},
   "outputs": [],
   "source": []
  },
  {
   "cell_type": "code",
   "execution_count": null,
   "metadata": {},
   "outputs": [],
   "source": [
    "rank_df_show = rank_df.head(500)\n",
    "results_df_show = results_df.head(500)\n",
    "select_df = fal.factors_select(rank_df, results_df)\n",
    "show(rank_df_show, results_df_show, select_df)\n"
   ]
  },
  {
   "cell_type": "code",
   "execution_count": null,
   "metadata": {},
   "outputs": [],
   "source": [
    "for i in range(len(rank_df))"
   ]
  },
  {
   "cell_type": "code",
   "execution_count": null,
   "metadata": {},
   "outputs": [],
   "source": [
    "import pandas as pd\n",
    "\n",
    "data = {'Name': ['John', 'Anna', 'Peter', 'Linda', 'Harry'],\n",
    "        'Age': [18, 19, 20, 19, 18],\n",
    "        'Gender': ['M', 'F', 'M', 'F', 'M'],\n",
    "        'Math Score': [85, 78, 92, 90, 87],\n",
    "        'English Score': [80, 85, 88, 91, 82]}\n",
    "\n",
    "df = pd.DataFrame(data)\n",
    "\n",
    "selected_rows = df.query('Age==18 and `English Score`>5')\n",
    "selected_rows\n"
   ]
  },
  {
   "cell_type": "code",
   "execution_count": null,
   "metadata": {},
   "outputs": [],
   "source": [
    "import factor_analysis as fa\n",
    "from importlib import reload\n",
    "reload(fa)\n",
    "fal = fa.FactorAnalysis_ori()\n",
    "rank_df_e = pd.read_parquet(\".//data//symbol_30000_20_rank_df.parquet\")[:60000]\n",
    "results_df_e = fal.cal_rank_results(factors,rtn,rank_df=rank_df_e)\n",
    "results_df_e\n"
   ]
  },
  {
   "cell_type": "code",
   "execution_count": null,
   "metadata": {},
   "outputs": [],
   "source": [
    "a =np.array([1,2,3,4,5,6,7,8,9,10])\n",
    "# a新增一个元素11\n",
    "a = np.append(a, 11)\n",
    "b =np.array([1]*len(a)) -a\n",
    "b"
   ]
  },
  {
   "cell_type": "code",
   "execution_count": null,
   "metadata": {},
   "outputs": [],
   "source": [
    "on_bar函数会在每一个新的bar到来的时候被调用, 我需要记录每次在long_signal = True 或short_signal = True的时候, 分别记录下bar.close及direction的信息作为入场价格, 另外在触发close_pos > 0或者close < 0 时候的bar.close信息及direction作出出场价格, 然后根据记录的信息计算最近20次交易中的平均收益\n"
   ]
  },
  {
   "cell_type": "code",
   "execution_count": null,
   "metadata": {},
   "outputs": [],
   "source": [
    "#因子分析, 画出最佳因子的累计收益图\n",
    "from importlib import reload\n",
    "import factor_analysis as fa\n",
    "reload(fa)\n",
    "fal = fa.FactorAnalysis_ori()\n",
    "# seletced ={} #选择的因子\n",
    "# show_up = 6\n",
    "# for  i in os.listdir(\".//data//\"):\n",
    "#     if \"30000_20_results\" in i:\n",
    "#         _rank = i.replace(\"_results_df\", \"_rank_df\")\n",
    "#         _rank_df = pd.read_parquet(\".//data//\"+_rank)\n",
    "#         sample_size,bins = i[7:-19].split(\"_\")\n",
    "#         sample_size =int(sample_size)\n",
    "        # bins = int(bins)\n",
    "        #重新计算因子的平均收益,胜率,有效期等信息\n",
    "        # _results_df = fal.cal_rank_results(factors, rtn, rank_df = _rank_df, sample_size=sample_size, bins=bins, save=True)\n",
    "        # _results_df.drop(['long_liqka_mean', 'short_liqka_mean','long_liqka_win_rate', 'short_liqka_win_rate'],axis=1,inplace=True)\n",
    "        \n",
    "        # # _results_df = pd.read_parquet(\".//data//\"+i)\n",
    "        # seletced[i[7:-19]] = fal.factors_select(\n",
    "        #     _results_df, win_rate=0, rtn=-3, count=None, sorted=\"mean_rtn\")\n",
    "        # display(f\"seletced: { i[7:-19]}\" , seletced[i[7:-19]].head())\n",
    "        # fal.cumsum_plot(rank_df = _rank_df, \n",
    "        #                 results_df = _results_df,\n",
    "        #                 n =3,\n",
    "        #                 sorted=\"mean_rtn\")\n",
    "        \n",
    "        # show_up -= 1\n",
    "        # if show_up == 0:\n",
    "            # break"
   ]
  },
  {
   "attachments": {},
   "cell_type": "markdown",
   "metadata": {},
   "source": [
    "### 3. 因子有效期分析\n"
   ]
  },
  {
   "cell_type": "code",
   "execution_count": null,
   "metadata": {},
   "outputs": [],
   "source": [
    "rank_df = pd.read_parquet(\".//data//symbol_30000_20_rank_df.parquet\")\n",
    "rank_df"
   ]
  },
  {
   "cell_type": "code",
   "execution_count": null,
   "metadata": {},
   "outputs": [],
   "source": [
    "seletced[\"10000_15\"]"
   ]
  },
  {
   "cell_type": "code",
   "execution_count": null,
   "metadata": {},
   "outputs": [],
   "source": [
    "\n",
    "\"short_liqka_mean\"[:-5]\n"
   ]
  },
  {
   "cell_type": "code",
   "execution_count": null,
   "metadata": {},
   "outputs": [],
   "source": [
    "_results_df"
   ]
  },
  {
   "cell_type": "code",
   "execution_count": null,
   "metadata": {},
   "outputs": [],
   "source": [
    "rank_df[['sar_rank', 'rsi_60_rank', 'rwr_60_rank', 'rsi_100_rank','shift_155_rtn', 'shift_160_rtn', 'shift_165_rtn', 'shift_170_rtn']].head()"
   ]
  },
  {
   "cell_type": "code",
   "execution_count": null,
   "metadata": {},
   "outputs": [],
   "source": []
  }
 ],
 "metadata": {
  "kernelspec": {
   "display_name": "Python 3",
   "language": "python",
   "name": "python3"
  },
  "language_info": {
   "codemirror_mode": {
    "name": "ipython",
    "version": 3
   },
   "file_extension": ".py",
   "mimetype": "text/x-python",
   "name": "python",
   "nbconvert_exporter": "python",
   "pygments_lexer": "ipython3",
   "version": "3.10.2"
  },
  "orig_nbformat": 4,
  "vscode": {
   "interpreter": {
    "hash": "1b43cb0bd93d5abbadd54afed8252f711d4681fe6223ad6b67ffaee289648f85"
   }
  }
 },
 "nbformat": 4,
 "nbformat_minor": 2
}

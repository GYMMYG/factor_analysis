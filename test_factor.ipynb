{
 "cells": [
  {
   "cell_type": "code",
   "execution_count": 1,
   "metadata": {},
   "outputs": [],
   "source": [
    "import numpy as np\n",
    "import pandas as pd\n",
    "from tools.get_data.get_data_h5 import *\n",
    "from pandasgui import show\n",
    "import talib as ta\n",
    "import datetime\n",
    "from tsfresh import extract_features\n",
    "from tsfresh.utilities.dataframe_functions import roll_time_series\n",
    "import numpy as np\n",
    "\n",
    "import pandas as pd\n",
    "pd.set_option('display.max_rows', 1000)\n"
   ]
  },
  {
   "attachments": {},
   "cell_type": "markdown",
   "metadata": {},
   "source": [
    "### 1. 获取factor数据"
   ]
  },
  {
   "cell_type": "code",
   "execution_count": 2,
   "metadata": {},
   "outputs": [],
   "source": [
    "from importlib import reload\n",
    "import factors as dl\n",
    "reload(dl)\n",
    "run = 0\n",
    "if run == 1:\n",
    "    data = get_data(symbol=\"rb99\", freq=\"minbar\", type=\"future\",\n",
    "                    source_dir=\"Y:/DataBase_RQ_files/\")\n",
    "    data[\"sma_diff_5\"] = dl.sma_diff(data, 5)\n",
    "    data[\"sma_diff_60\"] = dl.sma_diff(data, 60)\n",
    "    data[\"ema_diff_10\"] = dl.ema_diff(data, 10)\n",
    "    data[\"ema_diff_60\"] = dl.ema_diff(data, 60)\n",
    "    data[\"sma_of_sma_5_5\"] = dl.sma_of_sma(data, 5, 5)\n",
    "    data[\"ema_of_ema_5_5\"] = dl.ema_of_ema(data, 5, 5)\n",
    "    data[\"high_30\"] = dl.high(data, 30)\n",
    "    data[\"low_30\"] = dl.low(data, 30)\n",
    "    data[\"high_60\"] = dl.high(data, 60)\n",
    "    data[\"low_60\"] = dl.low(data, 60)\n",
    "    data[\"wl_30\"] = dl.wl(data, 30)\n",
    "    data[\"wl_60\"] = dl.wl(data, 60)\n",
    "    data[\"macd_dif\"], data[\"macd_dea\"], data[\"macd_hist\"], data[\"macd_signal\"] = dl.MACD(\n",
    "        data, fast=10, slow=60, mid=15)\n",
    "    data[\"slope\"] = dl.slope(data, 60)\n",
    "    data[\"rsi\"] = dl.rsi(data, 60)\n",
    "    data[\"sar\"] = dl.sar(data)\n",
    "    data[\"rwr\"] = dl.rwr(data, 60)\n",
    "    data[\"aroon_up\"], data[\"aroon_down\"], data[\"aroon\"] = dl.aroon(data, 60)\n",
    "    data[\"tendstrength\"] = dl.tendstrength(data, 60)\n",
    "    data[\"boll\"] = dl.boll(data, 60)\n",
    "    data[\"don\"] = dl.don(data, 60)\n",
    "    data[\"sf01\"] = dl.sf01(data, 60)\n",
    "    data[\"cor_vol\"] = dl.cor_vol(data, 60)\n",
    "    data[\"cor_oi\"] = dl.cor_oi(data, 60)\n",
    "\n",
    "    l = [1, 3, 5] + (list(range(10, 201, 5)))\n",
    "    for i in l:\n",
    "        data[\"shift_{}_rtn\".format(i)] = dl.rtn_shift(data.close, i)\n",
    "    print(\"liqka前工作完成\", len(data))\n",
    "\n",
    "    data[\"long_liqka\"] = dl.long_liqka(data)\n",
    "    data[\"short_liqka\"] = dl.short_liqka(data)\n",
    "\n",
    "    data.to_feather(\"factor.feather\")\n",
    "data = pd.read_feather(\"factor.feather\")\n",
    "data.dropna(inplace=True)"
   ]
  },
  {
   "attachments": {},
   "cell_type": "markdown",
   "metadata": {},
   "source": [
    "### 2. 因子分析"
   ]
  },
  {
   "cell_type": "code",
   "execution_count": 3,
   "metadata": {},
   "outputs": [
    {
     "name": "stdout",
     "output_type": "stream",
     "text": [
      "Progress: 100.00%\r"
     ]
    }
   ],
   "source": [
    "from importlib import reload    \n",
    "import factor_analysis as fa\n",
    "reload(fa)\n",
    "# data =data.head(42000)\n",
    "\n",
    "# print(\"factos_cols\", factors_cols,\"\\nrtn_cols\",rtn_cols)\n",
    "run = 0\n",
    "if run == 1:\n",
    "    data.set_index(\"datetime\", inplace=True, drop=True)\n",
    "    factors_cols = []\n",
    "    rtn_cols = []\n",
    "    for col in data.columns:\n",
    "        if col not in ['datetime', 'trading_date', \"symbol\"]:\n",
    "            if \"rtn\" not in col and \"liqka\" not in col:\n",
    "                factors_cols.append(col)\n",
    "            else:\n",
    "                rtn_cols.append(col)\n",
    "    factors = data[factors_cols]\n",
    "    rtn = data[rtn_cols]\n",
    "    fal = fa.FactorAnalysis_ori()\n",
    "    rank_df, results_df = fal.factor_ranked(factors, rtn,save=True,sample_size=20000)"
   ]
  },
  {
   "cell_type": "code",
   "execution_count": null,
   "metadata": {},
   "outputs": [],
   "source": [
    "rank_df =pd.read_parquet(\".//data//rank_df_mod.parquet\")\n",
    "results_df =pd.read_parquet(\".//data//results_df_mod.parquet\")\n",
    "show(rank_df.head(500))\n"
   ]
  },
  {
   "cell_type": "code",
   "execution_count": null,
   "metadata": {},
   "outputs": [],
   "source": [
    "factors_cols = []\n",
    "rtn_cols = []\n",
    "for col in rank_df.columns:\n",
    "    if col not in ['datetime', 'trading_date', \"symbol\"]:\n",
    "        if \"rtn\" not in col and \"liqka\" not in col:\n",
    "            factors_cols.append(col)\n",
    "        else:\n",
    "            rtn_cols.append(col)\n"
   ]
  },
  {
   "cell_type": "code",
   "execution_count": null,
   "metadata": {},
   "outputs": [],
   "source": [
    "from importlib import reload\n",
    "import factor_analysis as fa\n",
    "reload(fa)\n",
    "fal = fa.FactorAnalysis_ori()\n",
    "wr_df = fal.factors_select(results_df, win_rate=0,rtn=-0.1)\n",
    "show(wr_df)\n"
   ]
  },
  {
   "cell_type": "code",
   "execution_count": null,
   "metadata": {},
   "outputs": [],
   "source": [
    "#选择result_df中第三场index不含\"liqka\"的数据\n",
    "show(wr_df[wr_df.index.get_level_values(2).str.contains(\"liqka\")==False])"
   ]
  }
 ],
 "metadata": {
  "kernelspec": {
   "display_name": "Python 3",
   "language": "python",
   "name": "python3"
  },
  "language_info": {
   "codemirror_mode": {
    "name": "ipython",
    "version": 3
   },
   "file_extension": ".py",
   "mimetype": "text/x-python",
   "name": "python",
   "nbconvert_exporter": "python",
   "pygments_lexer": "ipython3",
   "version": "3.10.2"
  },
  "orig_nbformat": 4,
  "vscode": {
   "interpreter": {
    "hash": "1b43cb0bd93d5abbadd54afed8252f711d4681fe6223ad6b67ffaee289648f85"
   }
  }
 },
 "nbformat": 4,
 "nbformat_minor": 2
}

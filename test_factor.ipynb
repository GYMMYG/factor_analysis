{
 "cells": [
  {
   "cell_type": "code",
   "execution_count": 1,
   "metadata": {},
   "outputs": [],
   "source": [
    "import numpy as np\n",
    "import pandas as pd\n",
    "from tools.get_data.get_data_h5 import *\n",
    "from pandasgui import show\n",
    "import talib as ta\n",
    "import datetime\n",
    "from tsfresh import extract_features\n",
    "from tsfresh.utilities.dataframe_functions import roll_time_series\n",
    "import numpy as np\n",
    "import pandas as pd\n",
    "import os\n",
    "import plotly.express as px\n",
    "from IPython.display import display\n",
    "\n"
   ]
  },
  {
   "attachments": {},
   "cell_type": "markdown",
   "metadata": {},
   "source": [
    "### 1. 获取factor数据"
   ]
  },
  {
   "cell_type": "code",
   "execution_count": 4,
   "metadata": {},
   "outputs": [],
   "source": [
    "from importlib import reload\n",
    "import factors as dl\n",
    "reload(dl)\n",
    "run = 0\n",
    "if run == 1:\n",
    "    data = get_data(symbol=\"rb99\", freq=\"minbar\", type=\"future\",\n",
    "                    source_dir=\"Y:/DataBase_RQ_files/\")\n",
    "    data[\"sma_diff_5\"] = dl.sma_diff(data, 5)\n",
    "    data[\"sma_diff_20000\"] = dl.sma_diff(data, 20000)\n",
    "    data[\"ema_diff_300\"] = dl.ema_diff(data, 300)\n",
    "    data[\"ema_diff_1000\"] = dl.ema_diff(data, 1000)\n",
    "    data[\"sma_of_sma_5_10\"] = dl.sma_of_sma(data, 5, 10)\n",
    "    data[\"ema_of_ema_10_30\"] = dl.ema_of_ema(data, 10, 30)\n",
    "    data[\"sma_diff_sma_5_100\"] = dl.sma_diff_sma(data, 5, 100)\n",
    "    data[\"high_60\"] = dl.high(data, 60)\n",
    "    data[\"low_60\"] = dl.low(data, 60)\n",
    "    data[\"high_60\"] = dl.high(data, 60)\n",
    "    data[\"low_60\"] = dl.low(data, 60)\n",
    "    data[\"wl_60\"] = dl.wl(data, 60)\n",
    "    data[\"wl_60\"] = dl.wl(data, 60)\n",
    "    data[\"macd_dif\"], data[\"macd_dea\"], data[\"macd_hist\"], data[\"macd_signal\"] = dl.MACD(\n",
    "        data, fast=10, slow=60, mid=15)\n",
    "    data[\"slope\"] = dl.slope(data, 60)\n",
    "    data[\"rsi_60\"] = dl.rsi(data, 60)\n",
    "    data[\"sar\"] = dl.sar(data)\n",
    "    data[\"rwr_60\"] = dl.rwr(data, 60)\n",
    "    data[\"rsi_100\"] = dl.rsi(data, 100)\n",
    "    data[\"rwr_100\"] = dl.rwr(data, 100)\n",
    "    data[\"aroon_up\"], data[\"aroon_down\"], data[\"aroon\"] = dl.aroon(data, 60)\n",
    "    data[\"tendstrength\"] = dl.tendstrength(data, 120)\n",
    "    data[\"boll\"] = dl.boll(data, 200)\n",
    "    data[\"don\"] = dl.don(data, 100)\n",
    "    data[\"sf01\"] = dl.sf01(data, 60)\n",
    "    data[\"cor_vol\"] = dl.cor_vol(data, 200)\n",
    "    data[\"cor_oi\"] = dl.cor_oi(data, 1000)\n",
    "\n",
    "    l = [1, 3, 5] + (list(range(10, 201, 5)))\n",
    "    for i in l:\n",
    "        data[\"shift_{}_rtn\".format(i)] = dl.rtn_shift(data.close, -i)\n",
    "    print(\"liqka前工作完成\", len(data))\n",
    "\n",
    "    data[\"long_liqka\"] = dl.long_liqka(data)\n",
    "    data[\"short_liqka\"] = dl.short_liqka(data)\n",
    "    data.dropna(inplace=True)\n",
    "    data.to_parquet(\".//data//factors.parquet\")\n",
    "    \n",
    "\n",
    "data = pd.read_parquet(\".//data//factors.parquet\")\n",
    "# show(data.head(50))"
   ]
  },
  {
   "attachments": {},
   "cell_type": "markdown",
   "metadata": {},
   "source": [
    "### 2. 因子分析"
   ]
  },
  {
   "attachments": {},
   "cell_type": "markdown",
   "metadata": {},
   "source": [
    "#### 2.1 创建因子rank_df/results_df(耗时长)"
   ]
  },
  {
   "cell_type": "code",
   "execution_count": null,
   "metadata": {},
   "outputs": [],
   "source": [
    "# rank_df = pd.read_parquet(\".//data//symbol_30000_20_rank_df.parquet\")\n",
    "# rank_df2 = rank_df[-100000:]\n",
    "# results_df = pd.read_parquet(\".//data//symbol_30000_20_results_df.parquet\")\n",
    "# rank_df[[col for col in rank_df.columns if \"rank\" in col]].head(50)\n"
   ]
  },
  {
   "cell_type": "code",
   "execution_count": null,
   "metadata": {},
   "outputs": [],
   "source": [
    "from importlib import reload    \n",
    "import factor_analysis as fa\n",
    "reload(fa)\n",
    "data = pd.read_parquet(\".//data//factors.parquet\")\n",
    "data.set_index(\"datetime\", inplace=True, drop=True)\n",
    "factors_cols = []\n",
    "rtn_cols = []\n",
    "for col in data.columns:\n",
    "    if col not in ['datetime', 'trading_date', \"symbol\"]:\n",
    "        if \"rtn\" not in col and \"liqka\" not in col:\n",
    "            factors_cols.append(col)\n",
    "        else:\n",
    "            rtn_cols.append(col)\n",
    "factors = data[factors_cols]\n",
    "rtn = data[rtn_cols]\n",
    "run = 0\n",
    "if run == 1:\n",
    "    fal = fa.FactorAnalysis_ori()\n",
    "    rank_df, results_df = fal.factor_ranked(\n",
    "    factors, rtn, save=True, sample_size=60000, bins=20)\n",
    "\n",
    "    rank_df, results_df = fal.factor_ranked(factors, rtn,save=True,sample_size=30000,bins=20)\n",
    "    rank_df, results_df = fal.factor_ranked(factors, rtn,save=True,sample_size=20000,bins=15)\n",
    "    rank_df, results_df = fal.factor_ranked(factors, rtn,save=True,sample_size=10000,bins=15)\n",
    "    rank_df, results_df = fal.factor_ranked(factors, rtn,save=True,sample_size=5000,bins=10)\n",
    "    rank_df, results_df = fal.factor_ranked(factors, rtn,save=True,sample_size=2000,bins=10)"
   ]
  },
  {
   "attachments": {},
   "cell_type": "markdown",
   "metadata": {},
   "source": [
    "#### 2.2 因子分析"
   ]
  },
  {
   "cell_type": "code",
   "execution_count": null,
   "metadata": {},
   "outputs": [],
   "source": [
    "#因子分析, 画出最佳因子的累计收益图\n",
    "from importlib import reload\n",
    "import factor_analysis as fa\n",
    "reload(fa)\n",
    "fal = fa.FactorAnalysis_ori()\n",
    "seletced ={} #选择的因子\n",
    "show_up = 6\n",
    "for  i in os.listdir(\".//data//\"):\n",
    "    if \"_results_df\" in i:\n",
    "        _rank = i.replace(\"_results_df\", \"_rank_df\")\n",
    "        _rank_df = pd.read_parquet(\".//data//\"+_rank)\n",
    "        sample_size,bins = i[7:-19].split(\"_\")\n",
    "        sample_size =int(sample_size)\n",
    "        bins = int(bins)\n",
    "        # _results_df = fal.cal_rank_results(factors, rtn, rank_df = _rank_df, sample_size=sample_size, bins=bins, save=True)\n",
    "        # _results_df.drop(['long_liqka_mean', 'short_liqka_mean','long_liqka_win_rate', 'short_liqka_win_rate'],axis=1,inplace=True)\n",
    "        \n",
    "        _results_df = pd.read_parquet(\".//data//\"+i)\n",
    "        seletced[i[7:-19]] = fal.factors_select(_results_df, win_rate=0, rtn=-3,count=None,sorted=\"win_rate\")\n",
    "        display(f\"seletced: { i[7:-19]}\" , seletced[i[7:-19]].head())\n",
    "        fal.cumsum_plot(rank_df = _rank_df, \n",
    "                        results_df = _results_df,\n",
    "                        n =3,\n",
    "                        sorted=\"mean_rtn\")\n",
    "        \n",
    "        show_up -= 1\n",
    "        if show_up == 0:\n",
    "            break\n"
   ]
  },
  {
   "attachments": {},
   "cell_type": "markdown",
   "metadata": {},
   "source": [
    "### 3. 因子有效期分析\n"
   ]
  },
  {
   "cell_type": "code",
   "execution_count": null,
   "metadata": {},
   "outputs": [],
   "source": [
    "seletced[\"10000_15\"]\n",
    "# _results_df \n",
    "print(\"sample_size and bins\", i[7:-19])"
   ]
  },
  {
   "cell_type": "code",
   "execution_count": null,
   "metadata": {},
   "outputs": [],
   "source": [
    "rank_df = pd.read_parquet(\".//data//symbol_30000_20_rank_df.parquet\")\n",
    "rank_df"
   ]
  },
  {
   "cell_type": "code",
   "execution_count": null,
   "metadata": {},
   "outputs": [],
   "source": [
    "seletced[\"10000_15\"]"
   ]
  },
  {
   "cell_type": "code",
   "execution_count": null,
   "metadata": {},
   "outputs": [],
   "source": [
    "\n",
    "\"short_liqka_mean\"[:-5]\n"
   ]
  },
  {
   "cell_type": "code",
   "execution_count": null,
   "metadata": {},
   "outputs": [],
   "source": [
    "_results_df"
   ]
  },
  {
   "cell_type": "code",
   "execution_count": null,
   "metadata": {},
   "outputs": [],
   "source": [
    "rank_df[['sar_rank', 'rsi_60_rank', 'rwr_60_rank', 'rsi_100_rank','shift_155_rtn', 'shift_160_rtn', 'shift_165_rtn', 'shift_170_rtn']].head()"
   ]
  },
  {
   "cell_type": "code",
   "execution_count": null,
   "metadata": {},
   "outputs": [],
   "source": []
  }
 ],
 "metadata": {
  "kernelspec": {
   "display_name": "Python 3",
   "language": "python",
   "name": "python3"
  },
  "language_info": {
   "codemirror_mode": {
    "name": "ipython",
    "version": 3
   },
   "file_extension": ".py",
   "mimetype": "text/x-python",
   "name": "python",
   "nbconvert_exporter": "python",
   "pygments_lexer": "ipython3",
   "version": "3.10.2"
  },
  "orig_nbformat": 4,
  "vscode": {
   "interpreter": {
    "hash": "1b43cb0bd93d5abbadd54afed8252f711d4681fe6223ad6b67ffaee289648f85"
   }
  }
 },
 "nbformat": 4,
 "nbformat_minor": 2
}

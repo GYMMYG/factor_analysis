{
 "cells": [
  {
   "cell_type": "code",
   "execution_count": 1,
   "metadata": {
    "ExecuteTime": {
     "end_time": "2023-05-17T06:48:30.131389200Z",
     "start_time": "2023-05-17T06:48:26.007811600Z"
    }
   },
   "outputs": [],
   "source": [
    "import pandas as pd\n",
    "from alphalens.utils import get_clean_factor_and_forward_returns\n",
    "from alphalens.tears import create_full_tear_sheet\n",
    "from tools.get_data.get_data_h5 import *\n",
    "import os"
   ]
  },
  {
   "attachments": {},
   "cell_type": "markdown",
   "metadata": {},
   "source": [
    "* Alphalens需要我们准备两种数据：因子值，股票价格\n",
    "* 因子数据要求用日期（level0）标的代码（level 1）多重索引（MultiIndex Series, DataFrame也可以）  \n",
    "![示例图片](.//reference//alphalens1.jpg)\n",
    "* 价格数据与因子数据的格式不同，索引是时间，每一列是每只股票对应的收盘价：  \n",
    "![示例图片](.//reference//alphalens2.webp)"
   ]
  },
  {
   "cell_type": "code",
   "execution_count": 2,
   "metadata": {
    "ExecuteTime": {
     "end_time": "2023-05-17T06:49:19.620235600Z",
     "start_time": "2023-05-17T06:48:30.135393100Z"
    }
   },
   "outputs": [
    {
     "name": "stdout",
     "output_type": "stream",
     "text": [
      "                              volume   close\n",
      "datetime   symbol                           \n",
      "2014-05-07 000001.XSHE  4.180210e+07  5.6645\n",
      "2014-05-08 000001.XSHE  6.559849e+07  5.7063\n",
      "2014-05-09 000001.XSHE  5.562689e+07  5.7689\n",
      "2014-05-12 000001.XSHE  1.040242e+08  5.9203\n",
      "2014-05-13 000001.XSHE  5.284799e+07  5.8629 symbol      000001.XSHE  000002.XSHE\n",
      "datetime                            \n",
      "2014-05-07       5.6645       5.6537\n",
      "2014-05-08       5.7063       5.5704\n",
      "2014-05-09       5.7689       5.5022\n",
      "2014-05-12       5.9203       5.5476\n",
      "2014-05-13       5.8629       5.7068\n"
     ]
    }
   ],
   "source": [
    "listdir = os.listdir('Y:/DataBase_RQ_files/minbar/equities')\n",
    "stocks_list = [eqt[:-3] for eqt in listdir if eqt.endswith('.h5')][:3]\n",
    "factors = pd.DataFrame()\n",
    "for std in stocks_list:\n",
    "    df_min = get_data(symbol=std, freq=\"daybar\", type=\"equities\")[[\n",
    "        \"datetime\", \"volume\", \"close\", \"symbol\"\n",
    "    ]][-2000:]\n",
    "    df_min.set_index([\"datetime\", \"symbol\"], inplace=True, drop=True)\n",
    "    factors = pd.concat([factors, df_min], axis=0)\n",
    "rtn = factors.pivot_table(index='datetime', columns='symbol', values='close')\n",
    "\n",
    "print(factors.head(),rtn.head())"
   ]
  },
  {
   "cell_type": "code",
   "execution_count": 3,
   "metadata": {},
   "outputs": [
    {
     "data": {
      "text/plain": "DatetimeIndex(['2014-05-07', '2014-05-08', '2014-05-09', '2014-05-12',\n               '2014-05-13', '2014-05-14', '2014-05-15', '2014-05-16',\n               '2014-05-19', '2014-05-20',\n               ...\n               '2022-07-07', '2022-07-08', '2022-07-11', '2022-07-12',\n               '2022-07-13', '2022-07-14', '2022-07-15', '2022-07-18',\n               '2022-07-19', '2022-07-20'],\n              dtype='datetime64[ns]', name='datetime', length=4000, freq=None)"
     },
     "execution_count": 3,
     "metadata": {},
     "output_type": "execute_result"
    }
   ],
   "source": [
    "factors.index.get_level_values('datetime')"
   ]
  },
  {
   "cell_type": "code",
   "execution_count": 4,
   "metadata": {},
   "outputs": [
    {
     "name": "stderr",
     "output_type": "stream",
     "text": [
      "c:\\veighna_studio\\lib\\site-packages\\alphalens\\utils.py:319: FutureWarning: Unlike other reduction functions (e.g. `skew`, `kurtosis`), the default behavior of `mode` typically preserves the axis it acts along. In SciPy 1.11.0, this behavior will change: the default value of `keepdims` will become False, the `axis` over which the statistic is taken will be eliminated, and the value None will no longer be accepted. Set `keepdims` to True or False to avoid this warning.\n",
      "  delta_days = period_len.components.days - mode(days_diffs).mode[0]\n"
     ]
    },
    {
     "name": "stdout",
     "output_type": "stream",
     "text": [
      "Dropped 2.0% entries from factor data: 2.0% in forward returns computation and 0.0% in binning phase (set max_loss=0 to see potentially suppressed Exceptions).\n",
      "max_loss is 35.0%, not exceeded: OK!\n"
     ]
    },
    {
     "data": {
      "text/plain": "                              1D        3D        5D       10D       20D  \\\ndate       asset                                                           \n2014-05-07 000001.XSHE  0.007379  0.045158  0.042404  0.044240  0.053456   \n2014-05-08 000001.XSHE  0.010970  0.027443  0.023781  0.042076  0.041165   \n2014-05-09 000001.XSHE  0.026244  0.023540  0.019917  0.047964  0.038916   \n2014-05-12 000001.XSHE -0.009695 -0.013226 -0.006165  0.021164  0.036164   \n2014-05-13 000001.XSHE  0.007130  0.003565  0.000887  0.031162  0.048969   \n...                          ...       ...       ...       ...       ...   \n2022-05-18 000002.XSHE  0.022848 -0.024973 -0.031881 -0.049947 -0.034006   \n2022-05-19 000002.XSHE -0.018182 -0.058701 -0.044675 -0.080000 -0.057143   \n2022-05-20 000002.XSHE -0.029101 -0.035979 -0.040212 -0.085185 -0.016931   \n2022-05-23 000002.XSHE -0.012534  0.002180 -0.028883 -0.050136  0.012534   \n2022-05-24 000002.XSHE  0.005519  0.001104 -0.017108 -0.032009  0.009934   \n\n                             30D       40D        factor  factor_quantile  \ndate       asset                                                           \n2014-05-07 000001.XSHE  0.096549  0.116727  4.180210e+07                1  \n2014-05-08 000001.XSHE  0.096315  0.102991  6.559849e+07                1  \n2014-05-09 000001.XSHE  0.075612  0.085510  5.562689e+07                1  \n2014-05-12 000001.XSHE  0.051315  0.065267  1.040242e+08               10  \n2014-05-13 000001.XSHE  0.058367  0.045370  5.284799e+07                1  \n...                          ...       ...           ...              ...  \n2022-05-18 000002.XSHE  0.089267 -0.022848  7.611578e+07                1  \n2022-05-19 000002.XSHE  0.059740 -0.084675  1.017552e+08               10  \n2022-05-20 000002.XSHE  0.069312 -0.052910  1.602077e+08               10  \n2022-05-23 000002.XSHE  0.092098 -0.029973  9.773065e+07               10  \n2022-05-24 000002.XSHE  0.074503 -0.019868  6.352002e+07                1  \n\n[3920 rows x 9 columns]",
      "text/html": "<div>\n<style scoped>\n    .dataframe tbody tr th:only-of-type {\n        vertical-align: middle;\n    }\n\n    .dataframe tbody tr th {\n        vertical-align: top;\n    }\n\n    .dataframe thead th {\n        text-align: right;\n    }\n</style>\n<table border=\"1\" class=\"dataframe\">\n  <thead>\n    <tr style=\"text-align: right;\">\n      <th></th>\n      <th></th>\n      <th>1D</th>\n      <th>3D</th>\n      <th>5D</th>\n      <th>10D</th>\n      <th>20D</th>\n      <th>30D</th>\n      <th>40D</th>\n      <th>factor</th>\n      <th>factor_quantile</th>\n    </tr>\n    <tr>\n      <th>date</th>\n      <th>asset</th>\n      <th></th>\n      <th></th>\n      <th></th>\n      <th></th>\n      <th></th>\n      <th></th>\n      <th></th>\n      <th></th>\n      <th></th>\n    </tr>\n  </thead>\n  <tbody>\n    <tr>\n      <th>2014-05-07</th>\n      <th>000001.XSHE</th>\n      <td>0.007379</td>\n      <td>0.045158</td>\n      <td>0.042404</td>\n      <td>0.044240</td>\n      <td>0.053456</td>\n      <td>0.096549</td>\n      <td>0.116727</td>\n      <td>4.180210e+07</td>\n      <td>1</td>\n    </tr>\n    <tr>\n      <th>2014-05-08</th>\n      <th>000001.XSHE</th>\n      <td>0.010970</td>\n      <td>0.027443</td>\n      <td>0.023781</td>\n      <td>0.042076</td>\n      <td>0.041165</td>\n      <td>0.096315</td>\n      <td>0.102991</td>\n      <td>6.559849e+07</td>\n      <td>1</td>\n    </tr>\n    <tr>\n      <th>2014-05-09</th>\n      <th>000001.XSHE</th>\n      <td>0.026244</td>\n      <td>0.023540</td>\n      <td>0.019917</td>\n      <td>0.047964</td>\n      <td>0.038916</td>\n      <td>0.075612</td>\n      <td>0.085510</td>\n      <td>5.562689e+07</td>\n      <td>1</td>\n    </tr>\n    <tr>\n      <th>2014-05-12</th>\n      <th>000001.XSHE</th>\n      <td>-0.009695</td>\n      <td>-0.013226</td>\n      <td>-0.006165</td>\n      <td>0.021164</td>\n      <td>0.036164</td>\n      <td>0.051315</td>\n      <td>0.065267</td>\n      <td>1.040242e+08</td>\n      <td>10</td>\n    </tr>\n    <tr>\n      <th>2014-05-13</th>\n      <th>000001.XSHE</th>\n      <td>0.007130</td>\n      <td>0.003565</td>\n      <td>0.000887</td>\n      <td>0.031162</td>\n      <td>0.048969</td>\n      <td>0.058367</td>\n      <td>0.045370</td>\n      <td>5.284799e+07</td>\n      <td>1</td>\n    </tr>\n    <tr>\n      <th>...</th>\n      <th>...</th>\n      <td>...</td>\n      <td>...</td>\n      <td>...</td>\n      <td>...</td>\n      <td>...</td>\n      <td>...</td>\n      <td>...</td>\n      <td>...</td>\n      <td>...</td>\n    </tr>\n    <tr>\n      <th>2022-05-18</th>\n      <th>000002.XSHE</th>\n      <td>0.022848</td>\n      <td>-0.024973</td>\n      <td>-0.031881</td>\n      <td>-0.049947</td>\n      <td>-0.034006</td>\n      <td>0.089267</td>\n      <td>-0.022848</td>\n      <td>7.611578e+07</td>\n      <td>1</td>\n    </tr>\n    <tr>\n      <th>2022-05-19</th>\n      <th>000002.XSHE</th>\n      <td>-0.018182</td>\n      <td>-0.058701</td>\n      <td>-0.044675</td>\n      <td>-0.080000</td>\n      <td>-0.057143</td>\n      <td>0.059740</td>\n      <td>-0.084675</td>\n      <td>1.017552e+08</td>\n      <td>10</td>\n    </tr>\n    <tr>\n      <th>2022-05-20</th>\n      <th>000002.XSHE</th>\n      <td>-0.029101</td>\n      <td>-0.035979</td>\n      <td>-0.040212</td>\n      <td>-0.085185</td>\n      <td>-0.016931</td>\n      <td>0.069312</td>\n      <td>-0.052910</td>\n      <td>1.602077e+08</td>\n      <td>10</td>\n    </tr>\n    <tr>\n      <th>2022-05-23</th>\n      <th>000002.XSHE</th>\n      <td>-0.012534</td>\n      <td>0.002180</td>\n      <td>-0.028883</td>\n      <td>-0.050136</td>\n      <td>0.012534</td>\n      <td>0.092098</td>\n      <td>-0.029973</td>\n      <td>9.773065e+07</td>\n      <td>10</td>\n    </tr>\n    <tr>\n      <th>2022-05-24</th>\n      <th>000002.XSHE</th>\n      <td>0.005519</td>\n      <td>0.001104</td>\n      <td>-0.017108</td>\n      <td>-0.032009</td>\n      <td>0.009934</td>\n      <td>0.074503</td>\n      <td>-0.019868</td>\n      <td>6.352002e+07</td>\n      <td>1</td>\n    </tr>\n  </tbody>\n</table>\n<p>3920 rows × 9 columns</p>\n</div>"
     },
     "execution_count": 4,
     "metadata": {},
     "output_type": "execute_result"
    }
   ],
   "source": [
    "merged_data = get_clean_factor_and_forward_returns(factor=factors[\"volume\"],\n",
    "                                                   prices=rtn,\n",
    "                                                   # quantiles=5,\n",
    "                                                   bins=10,\n",
    "                                                   quantiles=None,\n",
    "                                                   periods=(1,3,5, 10,20,30,40),\n",
    "                                                   )\n",
    "merged_data"
   ]
  },
  {
   "cell_type": "code",
   "execution_count": 5,
   "outputs": [
    {
     "ename": "SyntaxError",
     "evalue": "invalid syntax (307970794.py, line 1)",
     "output_type": "error",
     "traceback": [
      "\u001B[1;36m  Cell \u001B[1;32mIn[5], line 1\u001B[1;36m\u001B[0m\n\u001B[1;33m    $pip install jupyter\u001B[0m\n\u001B[1;37m    ^\u001B[0m\n\u001B[1;31mSyntaxError\u001B[0m\u001B[1;31m:\u001B[0m invalid syntax\n"
     ]
    }
   ],
   "source": [
    "$pip install jupyter"
   ],
   "metadata": {
    "collapsed": false
   }
  },
  {
   "cell_type": "code",
   "execution_count": null,
   "metadata": {},
   "outputs": [],
   "source": [
    "create_full_tear_sheet(merged_data, long_short=True, group_neutral=False, by_group=False)"
   ]
  },
  {
   "cell_type": "code",
   "execution_count": null,
   "metadata": {},
   "outputs": [],
   "source": [
    "returns = rtn\n",
    "out = np.empty_like(rtn)\n",
    "out\n"
   ]
  },
  {
   "cell_type": "code",
   "execution_count": null,
   "metadata": {},
   "outputs": [],
   "source": [
    "help(create_full_tear_sheet)\n",
    "help(get_clean_factor_and_forward_returns)"
   ]
  },
  {
   "cell_type": "code",
   "execution_count": null,
   "metadata": {},
   "outputs": [],
   "source": [
    "equities1 = get_data(symbol=\"000638.XSHE\", freq=\"minbar\", type=\"equities\")\n",
    "# rb99.to_feather('rb99.feather')\n",
    "equities1.to_feather('equities1.feather')\n"
   ]
  },
  {
   "cell_type": "code",
   "execution_count": null,
   "metadata": {},
   "outputs": [],
   "source": [
    "pd.read_feather(\"E:\\\\Work\\\\5 Research\\\\factor_analysis\\\\equities1.feather\")"
   ]
  },
  {
   "cell_type": "code",
   "execution_count": null,
   "metadata": {},
   "outputs": [],
   "source": [
    "rtn[\"000001.XSHE\"].pct_change().cumsum().plot()"
   ]
  },
  {
   "cell_type": "code",
   "execution_count": null,
   "metadata": {},
   "outputs": [],
   "source": [
    "(rtn[\"000001.XSHE\"].pct_change()+1).cumprod().plot()"
   ]
  },
  {
   "cell_type": "code",
   "execution_count": null,
   "metadata": {},
   "outputs": [],
   "source": [
    "rtn[\"000001.XSHE\"]"
   ]
  },
  {
   "cell_type": "code",
   "execution_count": null,
   "metadata": {},
   "outputs": [],
   "source": []
  }
 ],
 "metadata": {
  "kernelspec": {
   "display_name": "Python 3",
   "language": "python",
   "name": "python3"
  },
  "language_info": {
   "codemirror_mode": {
    "name": "ipython",
    "version": 3
   },
   "file_extension": ".py",
   "mimetype": "text/x-python",
   "name": "python",
   "nbconvert_exporter": "python",
   "pygments_lexer": "ipython3",
   "version": "3.10.2"
  },
  "orig_nbformat": 4
 },
 "nbformat": 4,
 "nbformat_minor": 2
}
